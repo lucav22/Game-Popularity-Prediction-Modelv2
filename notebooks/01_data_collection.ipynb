{
 "cells": [
  {
   "cell_type": "markdown",
   "metadata": {
    "id": "86dd2a50",
    "language": "markdown"
   },
   "source": [
    "# 01. Data Collection\n",
    "\n",
    "**Purpose:** This notebook demonstrates how to collect real-time game data using our custom `DataCollector` class. It fetches data from Steam (player counts, details), Twitch (viewership), and external sources like Google Trends, Reddit, Twitter, and YouTube.\n",
    "\n",
    "**Why This Matters:** This automated collection process provides fresh, multi-faceted data crucial for building our time series dataset and ultimately, the game popularity prediction model.\n",
    "\n",
    "**What to Expect:** After running this notebook, you will:\n",
    "1. Successfully collect current data from multiple APIs.\n",
    "2. Save the combined data in a structured format (compressed CSV).\n",
    "3. Understand the enhanced data collection workflow.\n",
    "4. Have the first data point for building a historical dataset."
   ]
  },
  {
   "cell_type": "markdown",
   "metadata": {
    "id": "ae2eb668",
    "language": "markdown"
   },
   "source": [
    "## 1. Setup and Configuration\n",
    "\n",
    "**Purpose:** Import necessary libraries and configure the environment.\n",
    "\n",
    "**Why:** Ensures the `DataCollector` and its dependencies can be found and used correctly."
   ]
  },
  {
   "cell_type": "code",
   "execution_count": 1,
   "id": "d43842a4",
   "metadata": {
    "id": "56b64a94",
    "language": "python"
   },
   "outputs": [
    {
     "name": "stdout",
     "output_type": "stream",
     "text": [
      "Notebook Execution Started: 2025-05-06 22:00:33.338323\n"
     ]
    }
   ],
   "source": [
    "# Imports and Setup\n",
    "import sys\n",
    "import os\n",
    "import pandas as pd\n",
    "from datetime import datetime\n",
    "\n",
    "# Add src directory to path to import modules\n",
    "# Assumes notebook is run from the 'notebooks' directory\n",
    "module_path = os.path.abspath(os.path.join('..'))\n",
    "if module_path not in sys.path:\n",
    "    sys.path.append(module_path)\n",
    "\n",
    "# Import our custom modules\n",
    "from src.data_collector import DataCollector\n",
    "# from src.utils import configure_plotting # Optional: if plotting is needed here\n",
    "\n",
    "# Configure plotting (optional)\n",
    "# configure_plotting()\n",
    "\n",
    "# Display pandas DataFrames nicely\n",
    "pd.set_option('display.max_columns', None)\n",
    "pd.set_option('display.width', 1000)\n",
    "\n",
    "# Display current time for reference\n",
    "print(f\"Notebook Execution Started: {datetime.now()}\")"
   ]
  },
  {
   "cell_type": "markdown",
   "id": "6729227d",
   "metadata": {
    "id": "34393ae7",
    "language": "markdown"
   },
   "source": [
    "## 2. Initialize Data Collector\n",
    "\n",
    "**Purpose:** Create an instance of the `DataCollector`.\n",
    "\n",
    "**Why:** The collector manages API connections, game lists, and data storage. It automatically loads API keys from the `.env` file in the project root.\n",
    "\n",
    "**Expected Output:** Confirmation of initialization and the number of games being tracked."
   ]
  },
  {
   "cell_type": "code",
   "execution_count": 2,
   "id": "99fb9604",
   "metadata": {
    "id": "16d376da",
    "language": "python"
   },
   "outputs": [
    {
     "name": "stdout",
     "output_type": "stream",
     "text": [
      "TwitchAPIConnector initialized\n",
      "[ExternalDataCollector] Attempting to load .env file...\n",
      "[ExternalDataCollector] .env file found and loaded: True\n",
      "Reddit client initialized successfully (read-only mode).\n",
      "Error initializing Twitter client: BaseClient.__init__() got an unexpected keyword argument 'timeout'\n",
      "[ExternalDataCollector._init_pytrends] Detected pytrends library version: unknown (attribute missing)\n",
      "Warning: Installed pytrends version does not support 'requests_session'. Falling back to basic initialization with requests_args.\n",
      "         Consider checking your pytrends installation (target version 4.7.0+ for full support).\n",
      "Pytrends client initialized successfully (fallback, with requests_args for SSL verification).\n",
      "ExternalDataCollector initialized\n",
      "Tracking 20 unique game IDs across categories.\n"
     ]
    },
    {
     "name": "stderr",
     "output_type": "stream",
     "text": [
      "c:\\Users\\lucav\\Github\\Game-Popularity-Prediction-Modelv2\\venv\\Lib\\site-packages\\urllib3\\connectionpool.py:1097: InsecureRequestWarning: Unverified HTTPS request is being made to host 'trends.google.com'. Adding certificate verification is strongly advised. See: https://urllib3.readthedocs.io/en/latest/advanced-usage.html#tls-warnings\n",
      "  warnings.warn(\n"
     ]
    }
   ],
   "source": [
    "# Initialize the collector\n",
    "# It will use the default game lists defined within the class\n",
    "# and look for API keys in the .env file in the project root\n",
    "# Ensure the data_dir path is correct relative to the notebook location\n",
    "collector = DataCollector(data_dir=\"../data\")\n",
    "\n",
    "# Optionally, view the game IDs being tracked\n",
    "all_game_ids = collector.get_all_game_ids()\n",
    "print(f\"Tracking {len(all_game_ids)} unique game IDs across categories.\")\n",
    "# print(collector.game_categories) # Uncomment to see the full category list"
   ]
  },
  {
   "cell_type": "markdown",
   "id": "1f4dd867",
   "metadata": {
    "id": "7fb97b85",
    "language": "markdown"
   },
   "source": [
    "## 3. Collect Current Data\n",
    "\n",
    "**Purpose:** Execute the main data collection process.\n",
    "\n",
    "**Why:** This fetches the latest data from all configured sources (Steam, Twitch, Google Trends, Reddit, Twitter, YouTube).\n",
    "\n",
    "**IMPORTANT:** Before running this step:\n",
    "1.  **Check API Keys/Credentials:** Ensure your API keys/secrets/tokens in the `.env` file (located in the project root `c:\\\\Users\\\\lucav\\\\Github\\\\Game-Popularity-Prediction-Modelv2`) are correct, especially for **Reddit** (Client ID, Secret, User Agent) and **YouTube** (API Key). Incorrect credentials often lead to `401` or `403` errors.\n",
    "2.  **Check API Quotas/Rate Limits:** APIs like YouTube, Google Trends, and Twitter have usage limits (quotas) and rate limits. If you run this frequently or with many games, you might hit these limits, resulting in `403` (Quota Exceeded) or `429` (Too Many Requests) errors. Check your API provider dashboards (e.g., Google Cloud Console for YouTube) if you encounter persistent errors.\n",
    "\n",
    "**Expected Output:** \n",
    "- Status messages indicating which data sources are being queried.\n",
    "- Potential warnings or errors if API keys are invalid, quotas are exceeded, or rate limits are hit.\n",
    "- A DataFrame containing the combined data (if collection is at least partially successful).\n",
    "- A summary of the collected data shape and columns."
   ]
  },
  {
   "cell_type": "code",
   "execution_count": 3,
   "id": "cf04aebd",
   "metadata": {
    "id": "17b0d869",
    "language": "python"
   },
   "outputs": [
    {
     "name": "stdout",
     "output_type": "stream",
     "text": [
      "Starting data collection...\n",
      "This may take a few minutes depending on the number of games and API responsiveness.\n",
      "[2025-05-06 22:00:41.749294] Collecting data for 20 games...\n",
      "  Fetching Twitch data for: Forza Horizon 5 (Querying as: 'Forza Horizon 5')\n",
      "Successfully obtained Twitch Access Token.\n",
      "    > Twitch ID: 1757732267, Viewers: 530\n",
      "  Fetching Twitch data for: Kenshi (Querying as: 'Kenshi')\n",
      "    > Twitch ID: 34025, Viewers: 39\n",
      "  Fetching Twitch data for: Sea of Thieves: 2025 Edition (Querying as: 'Sea of Thieves')\n",
      "    > Twitch ID: 490377, Viewers: 1474\n",
      "  Fetching Twitch data for: NARAKA: BLADEPOINT (Querying as: 'NARAKA: BLADEPOINT')\n",
      "    > Twitch ID: 515474, Viewers: 402\n",
      "  Fetching Twitch data for: Rocket League® (Querying as: 'Rocket League')\n",
      "    > Twitch ID: 30921, Viewers: 6465\n",
      "  Fetching Twitch data for: PUBG: BATTLEGROUNDS (Querying as: 'PUBG: BATTLEGROUNDS')\n",
      "    > Twitch ID: 493057, Viewers: 6225\n",
      "  Fetching Twitch data for: Call of Duty®: Modern Warfare® II (Querying as: 'Call of Duty: Modern Warfare II')\n",
      "    > Twitch ID: 1678052513, Viewers: 75\n",
      "  Fetching Twitch data for: Valheim (Querying as: 'Valheim')\n",
      "    > Twitch ID: 508455, Viewers: 796\n",
      "  Fetching Twitch data for: Call of Duty® (Querying as: 'Call of Duty')\n",
      "    > Twitch ID: 1494, Viewers: 1252\n",
      "  Fetching Twitch data for: Cyberpunk 2077 (Querying as: 'Cyberpunk 2077')\n",
      "    > Twitch ID: 65876, Viewers: 414\n",
      "  Fetching Twitch data for: ELDEN RING (Querying as: 'ELDEN RING')\n",
      "    > Twitch ID: 512953, Viewers: 7118\n",
      "  Fetching Twitch data for: Team Fortress 2 (Querying as: 'Team Fortress 2')\n",
      "    > Twitch ID: 16676, Viewers: 281\n",
      "  Fetching Twitch data for: Dota 2 (Querying as: 'Dota 2')\n",
      "    > Twitch ID: 29595, Viewers: 16665\n",
      "  Fetching Twitch data for: The Witcher 3: Wild Hunt (Querying as: 'The Witcher 3: Wild Hunt')\n",
      "    > Twitch ID: 115977, Viewers: 200\n",
      "  Fetching Twitch data for: Counter-Strike 2 (Querying as: 'Counter-Strike')\n",
      "    > Twitch ID: 32399, Viewers: 36202\n",
      "  Fetching Twitch data for: Baldur's Gate 3 (Querying as: 'Baldur's Gate 3')\n",
      "    > Twitch ID: 512923, Viewers: 2601\n",
      "  Fetching Twitch data for: Grand Theft Auto V Legacy (Querying as: 'Grand Theft Auto V Legacy')\n",
      "Info: Twitch returned game 'Grand Theft Auto V' (ID: 32982) for query 'Grand Theft Auto V Legacy'. Using this ID.\n",
      "    > Twitch ID: 32982, Viewers: 124267\n",
      "  Fetching Twitch data for: Lost Ark (Querying as: 'Lost Ark')\n",
      "    > Twitch ID: 490100, Viewers: 2342\n",
      "  Fetching Twitch data for: Apex Legends™ (Querying as: 'Apex Legends')\n",
      "    > Twitch ID: 511224, Viewers: 17509\n",
      "  Fetching Twitch data for: Tom Clancy's Rainbow Six® Siege (Querying as: 'Tom Clancy's Rainbow Six Siege')\n",
      "    > Twitch ID: 460630, Viewers: 4807\n",
      "[2025-05-06 22:01:22.136477] Collecting external signals for 20 games...\n",
      "  Processing external signals for: Valheim (Timeout: 30s)\n",
      "    > Querying Google Trends for: 'Valheim'\n"
     ]
    },
    {
     "name": "stderr",
     "output_type": "stream",
     "text": [
      "c:\\Users\\lucav\\Github\\Game-Popularity-Prediction-Modelv2\\venv\\Lib\\site-packages\\urllib3\\connectionpool.py:1097: InsecureRequestWarning: Unverified HTTPS request is being made to host 'trends.google.com'. Adding certificate verification is strongly advised. See: https://urllib3.readthedocs.io/en/latest/advanced-usage.html#tls-warnings\n",
      "  warnings.warn(\n",
      "c:\\Users\\lucav\\Github\\Game-Popularity-Prediction-Modelv2\\venv\\Lib\\site-packages\\urllib3\\connectionpool.py:1097: InsecureRequestWarning: Unverified HTTPS request is being made to host 'trends.google.com'. Adding certificate verification is strongly advised. See: https://urllib3.readthedocs.io/en/latest/advanced-usage.html#tls-warnings\n",
      "  warnings.warn(\n"
     ]
    },
    {
     "name": "stdout",
     "output_type": "stream",
     "text": [
      "Error fetching Google Trends data for 'Valheim': The request failed: Google returned a response with code 429\n",
      "    > Google Trends: Failed or no data.\n",
      "    > Querying Reddit subreddit: r/valheim\n",
      "Warning: Recent post count for r/valheim (filter: week) reached fetch limit (250). Actual count may be higher if older posts were not checked beyond this limit.\n",
      "    > Reddit Data (Subscribers: 532344, Active: 86, Posts_week: 250)\n",
      "    > Querying Twitter for: \"Valheim\" OR #Valheim\n",
      "Error: Twitter client not initialized.\n",
      "    > Querying YouTube for: \"Valheim\" official trailer OR gameplay\n",
      "    > YouTube Search Query: \"Valheim\" official trailer OR gameplay\n",
      "    > YouTube Stats (Top 5 videos): Total Views=1695785, Avg Views=339157, Avg Likes=7867\n",
      "  Processing external signals for: NARAKA: BLADEPOINT (Timeout: 30s)\n",
      "    > Querying Google Trends for: 'NARAKA: BLADEPOINT'\n"
     ]
    },
    {
     "name": "stderr",
     "output_type": "stream",
     "text": [
      "c:\\Users\\lucav\\Github\\Game-Popularity-Prediction-Modelv2\\venv\\Lib\\site-packages\\urllib3\\connectionpool.py:1097: InsecureRequestWarning: Unverified HTTPS request is being made to host 'trends.google.com'. Adding certificate verification is strongly advised. See: https://urllib3.readthedocs.io/en/latest/advanced-usage.html#tls-warnings\n",
      "  warnings.warn(\n",
      "c:\\Users\\lucav\\Github\\Game-Popularity-Prediction-Modelv2\\venv\\Lib\\site-packages\\urllib3\\connectionpool.py:1097: InsecureRequestWarning: Unverified HTTPS request is being made to host 'trends.google.com'. Adding certificate verification is strongly advised. See: https://urllib3.readthedocs.io/en/latest/advanced-usage.html#tls-warnings\n",
      "  warnings.warn(\n"
     ]
    },
    {
     "name": "stdout",
     "output_type": "stream",
     "text": [
      "Error fetching Google Trends data for 'NARAKA: BLADEPOINT': The request failed: Google returned a response with code 429\n",
      "    > Google Trends: Failed or no data.\n",
      "    > Querying Reddit subreddit: r/NarakaBladePoint\n",
      "    > Reddit Data (Subscribers: 32179, Active: 6, Posts_week: 40)\n",
      "    > Querying Twitter for: \"NARAKA BLADEPOINT\" OR #NARAKABLADEPOINT\n",
      "Error: Twitter client not initialized.\n",
      "    > Querying YouTube for: \"NARAKA: BLADEPOINT\" official trailer OR gameplay\n",
      "    > YouTube Search Query: \"NARAKA: BLADEPOINT\" official trailer OR gameplay\n",
      "    > YouTube Stats (Top 5 videos): Total Views=1556839, Avg Views=311368, Avg Likes=5218\n",
      "  Processing external signals for: Sea of Thieves: 2025 Edition (Timeout: 30s)\n",
      "    > Querying Google Trends for: 'Sea of Thieves: 2025 Edition'\n"
     ]
    },
    {
     "name": "stderr",
     "output_type": "stream",
     "text": [
      "c:\\Users\\lucav\\Github\\Game-Popularity-Prediction-Modelv2\\venv\\Lib\\site-packages\\urllib3\\connectionpool.py:1097: InsecureRequestWarning: Unverified HTTPS request is being made to host 'trends.google.com'. Adding certificate verification is strongly advised. See: https://urllib3.readthedocs.io/en/latest/advanced-usage.html#tls-warnings\n",
      "  warnings.warn(\n",
      "c:\\Users\\lucav\\Github\\Game-Popularity-Prediction-Modelv2\\venv\\Lib\\site-packages\\urllib3\\connectionpool.py:1097: InsecureRequestWarning: Unverified HTTPS request is being made to host 'trends.google.com'. Adding certificate verification is strongly advised. See: https://urllib3.readthedocs.io/en/latest/advanced-usage.html#tls-warnings\n",
      "  warnings.warn(\n"
     ]
    },
    {
     "name": "stdout",
     "output_type": "stream",
     "text": [
      "Error fetching Google Trends data for 'Sea of Thieves: 2025 Edition': The request failed: Google returned a response with code 429\n",
      "    > Google Trends: Failed or no data.\n",
      "    > Querying Reddit subreddit: r/seaofthieves2025edition\n",
      "Info: Subreddit r/seaofthieves2025edition not found.\n",
      "    > Querying Twitter for: \"Sea of Thieves: 2025 Edition\" OR #SeaofThieves2025Edition\n",
      "Error: Twitter client not initialized.\n",
      "    > Querying YouTube for: \"Sea of Thieves: 2025 Edition\" official trailer OR gameplay\n",
      "    > YouTube Search Query: \"Sea of Thieves: 2025 Edition\" official trailer OR gameplay\n",
      "    > YouTube Stats (Top 5 videos): Total Views=343551, Avg Views=68710, Avg Likes=2705\n",
      "  Processing external signals for: Team Fortress 2 (Timeout: 30s)\n",
      "    > Querying Google Trends for: 'Team Fortress 2'\n"
     ]
    },
    {
     "name": "stderr",
     "output_type": "stream",
     "text": [
      "c:\\Users\\lucav\\Github\\Game-Popularity-Prediction-Modelv2\\venv\\Lib\\site-packages\\urllib3\\connectionpool.py:1097: InsecureRequestWarning: Unverified HTTPS request is being made to host 'trends.google.com'. Adding certificate verification is strongly advised. See: https://urllib3.readthedocs.io/en/latest/advanced-usage.html#tls-warnings\n",
      "  warnings.warn(\n",
      "c:\\Users\\lucav\\Github\\Game-Popularity-Prediction-Modelv2\\venv\\Lib\\site-packages\\urllib3\\connectionpool.py:1097: InsecureRequestWarning: Unverified HTTPS request is being made to host 'trends.google.com'. Adding certificate verification is strongly advised. See: https://urllib3.readthedocs.io/en/latest/advanced-usage.html#tls-warnings\n",
      "  warnings.warn(\n"
     ]
    },
    {
     "name": "stdout",
     "output_type": "stream",
     "text": [
      "Error fetching Google Trends data for 'Team Fortress 2': The request failed: Google returned a response with code 429\n",
      "    > Google Trends: Failed or no data.\n",
      "    > Querying Reddit subreddit: r/tf2\n",
      "Warning: Recent post count for r/tf2 (filter: week) reached fetch limit (250). Actual count may be higher if older posts were not checked beyond this limit.\n",
      "    > Reddit Data (Subscribers: 897127, Active: 218, Posts_week: 250)\n",
      "    > Querying Twitter for: \"Team Fortress 2\" OR #TF2\n",
      "Error: Twitter client not initialized.\n",
      "    > Querying YouTube for: \"Team Fortress 2\" official trailer OR gameplay\n",
      "    > YouTube Search Query: \"Team Fortress 2\" official trailer OR gameplay\n",
      "    > YouTube Stats (Top 5 videos): Total Views=125922820, Avg Views=25184564, Avg Likes=309560\n",
      "  Processing external signals for: PUBG: BATTLEGROUNDS (Timeout: 30s)\n",
      "    > Querying Google Trends for: 'PUBG'\n"
     ]
    },
    {
     "name": "stderr",
     "output_type": "stream",
     "text": [
      "c:\\Users\\lucav\\Github\\Game-Popularity-Prediction-Modelv2\\venv\\Lib\\site-packages\\urllib3\\connectionpool.py:1097: InsecureRequestWarning: Unverified HTTPS request is being made to host 'trends.google.com'. Adding certificate verification is strongly advised. See: https://urllib3.readthedocs.io/en/latest/advanced-usage.html#tls-warnings\n",
      "  warnings.warn(\n",
      "c:\\Users\\lucav\\Github\\Game-Popularity-Prediction-Modelv2\\venv\\Lib\\site-packages\\urllib3\\connectionpool.py:1097: InsecureRequestWarning: Unverified HTTPS request is being made to host 'trends.google.com'. Adding certificate verification is strongly advised. See: https://urllib3.readthedocs.io/en/latest/advanced-usage.html#tls-warnings\n",
      "  warnings.warn(\n"
     ]
    },
    {
     "name": "stdout",
     "output_type": "stream",
     "text": [
      "Error fetching Google Trends data for 'PUBG': The request failed: Google returned a response with code 429\n",
      "    > Google Trends: Failed or no data.\n",
      "    > Querying Reddit subreddit: r/PUBATTLEGROUNDS\n",
      "    > Reddit Data (Subscribers: 2653057, Active: 59, Posts_week: 108)\n",
      "    > Querying Twitter for: \"PUBG\" OR #PUBG\n",
      "Error: Twitter client not initialized.\n",
      "    > Querying YouTube for: PUBG gameplay\n",
      "    > YouTube Search Query: PUBG gameplay\n",
      "    > YouTube Stats (Top 5 videos): Total Views=889936, Avg Views=177987, Avg Likes=2766\n",
      "  Processing external signals for: Dota 2 (Timeout: 30s)\n",
      "    > Querying Google Trends for: 'Dota 2'\n"
     ]
    },
    {
     "name": "stderr",
     "output_type": "stream",
     "text": [
      "c:\\Users\\lucav\\Github\\Game-Popularity-Prediction-Modelv2\\venv\\Lib\\site-packages\\urllib3\\connectionpool.py:1097: InsecureRequestWarning: Unverified HTTPS request is being made to host 'trends.google.com'. Adding certificate verification is strongly advised. See: https://urllib3.readthedocs.io/en/latest/advanced-usage.html#tls-warnings\n",
      "  warnings.warn(\n",
      "c:\\Users\\lucav\\Github\\Game-Popularity-Prediction-Modelv2\\venv\\Lib\\site-packages\\urllib3\\connectionpool.py:1097: InsecureRequestWarning: Unverified HTTPS request is being made to host 'trends.google.com'. Adding certificate verification is strongly advised. See: https://urllib3.readthedocs.io/en/latest/advanced-usage.html#tls-warnings\n",
      "  warnings.warn(\n"
     ]
    },
    {
     "name": "stdout",
     "output_type": "stream",
     "text": [
      "Error fetching Google Trends data for 'Dota 2': The request failed: Google returned a response with code 429\n",
      "    > Google Trends: Failed or no data.\n",
      "    > Querying Reddit subreddit: r/DotA2\n",
      "Warning: Recent post count for r/DotA2 (filter: week) reached fetch limit (250). Actual count may be higher if older posts were not checked beyond this limit.\n",
      "    > Reddit Data (Subscribers: 1709804, Active: 478, Posts_week: 250)\n",
      "    > Querying Twitter for: \"Dota 2\" OR #dota2\n",
      "Error: Twitter client not initialized.\n",
      "    > Querying YouTube for: \"Dota 2\" official trailer OR gameplay\n",
      "    > YouTube Search Query: \"Dota 2\" official trailer OR gameplay\n",
      "    > YouTube Stats (Top 5 videos): Total Views=13992682, Avg Views=2798536, Avg Likes=23234\n",
      "  Processing external signals for: Apex Legends™ (Timeout: 30s)\n",
      "    > Querying Google Trends for: 'Apex Legends'\n"
     ]
    },
    {
     "name": "stderr",
     "output_type": "stream",
     "text": [
      "c:\\Users\\lucav\\Github\\Game-Popularity-Prediction-Modelv2\\venv\\Lib\\site-packages\\urllib3\\connectionpool.py:1097: InsecureRequestWarning: Unverified HTTPS request is being made to host 'trends.google.com'. Adding certificate verification is strongly advised. See: https://urllib3.readthedocs.io/en/latest/advanced-usage.html#tls-warnings\n",
      "  warnings.warn(\n",
      "c:\\Users\\lucav\\Github\\Game-Popularity-Prediction-Modelv2\\venv\\Lib\\site-packages\\urllib3\\connectionpool.py:1097: InsecureRequestWarning: Unverified HTTPS request is being made to host 'trends.google.com'. Adding certificate verification is strongly advised. See: https://urllib3.readthedocs.io/en/latest/advanced-usage.html#tls-warnings\n",
      "  warnings.warn(\n"
     ]
    },
    {
     "name": "stdout",
     "output_type": "stream",
     "text": [
      "Error fetching Google Trends data for 'Apex Legends': The request failed: Google returned a response with code 429\n",
      "    > Google Trends: Failed or no data.\n",
      "    > Querying Reddit subreddit: r/apexlegends\n",
      "Warning: Recent post count for r/apexlegends (filter: week) reached fetch limit (250). Actual count may be higher if older posts were not checked beyond this limit.\n",
      "    > Reddit Data (Subscribers: 3024436, Active: 351, Posts_week: 250)\n",
      "    > Querying Twitter for: \"Apex Legends\" OR #ApexLegends\n",
      "Error: Twitter client not initialized.\n",
      "    > Querying YouTube for: \"Apex Legends\" gameplay\n",
      "    > YouTube Search Query: \"Apex Legends\" gameplay\n",
      "    > YouTube Stats (Top 5 videos): Total Views=233290, Avg Views=46658, Avg Likes=1424\n",
      "  Processing external signals for: Cyberpunk 2077 (Timeout: 30s)\n",
      "    > Querying Google Trends for: 'Cyberpunk 2077'\n"
     ]
    },
    {
     "name": "stderr",
     "output_type": "stream",
     "text": [
      "c:\\Users\\lucav\\Github\\Game-Popularity-Prediction-Modelv2\\venv\\Lib\\site-packages\\urllib3\\connectionpool.py:1097: InsecureRequestWarning: Unverified HTTPS request is being made to host 'trends.google.com'. Adding certificate verification is strongly advised. See: https://urllib3.readthedocs.io/en/latest/advanced-usage.html#tls-warnings\n",
      "  warnings.warn(\n",
      "c:\\Users\\lucav\\Github\\Game-Popularity-Prediction-Modelv2\\venv\\Lib\\site-packages\\urllib3\\connectionpool.py:1097: InsecureRequestWarning: Unverified HTTPS request is being made to host 'trends.google.com'. Adding certificate verification is strongly advised. See: https://urllib3.readthedocs.io/en/latest/advanced-usage.html#tls-warnings\n",
      "  warnings.warn(\n"
     ]
    },
    {
     "name": "stdout",
     "output_type": "stream",
     "text": [
      "Error fetching Google Trends data for 'Cyberpunk 2077': The request failed: Google returned a response with code 429\n",
      "    > Google Trends: Failed or no data.\n",
      "    > Querying Reddit subreddit: r/cyberpunkgame\n",
      "Warning: Recent post count for r/cyberpunkgame (filter: week) reached fetch limit (250). Actual count may be higher if older posts were not checked beyond this limit.\n",
      "    > Reddit Data (Subscribers: 2208736, Active: 319, Posts_week: 250)\n",
      "    > Querying Twitter for: \"Cyberpunk 2077\" OR #Cyberpunk2077\n",
      "Error: Twitter client not initialized.\n",
      "    > Querying YouTube for: \"Cyberpunk 2077\" official trailer OR gameplay\n",
      "    > YouTube Search Query: \"Cyberpunk 2077\" official trailer OR gameplay\n",
      "    > YouTube Stats (Top 5 videos): Total Views=78258740, Avg Views=15651748, Avg Likes=293753\n",
      "  Processing external signals for: Forza Horizon 5 (Timeout: 30s)\n",
      "    > Querying Google Trends for: 'Forza Horizon 5'\n"
     ]
    },
    {
     "name": "stderr",
     "output_type": "stream",
     "text": [
      "c:\\Users\\lucav\\Github\\Game-Popularity-Prediction-Modelv2\\venv\\Lib\\site-packages\\urllib3\\connectionpool.py:1097: InsecureRequestWarning: Unverified HTTPS request is being made to host 'trends.google.com'. Adding certificate verification is strongly advised. See: https://urllib3.readthedocs.io/en/latest/advanced-usage.html#tls-warnings\n",
      "  warnings.warn(\n",
      "c:\\Users\\lucav\\Github\\Game-Popularity-Prediction-Modelv2\\venv\\Lib\\site-packages\\urllib3\\connectionpool.py:1097: InsecureRequestWarning: Unverified HTTPS request is being made to host 'trends.google.com'. Adding certificate verification is strongly advised. See: https://urllib3.readthedocs.io/en/latest/advanced-usage.html#tls-warnings\n",
      "  warnings.warn(\n"
     ]
    },
    {
     "name": "stdout",
     "output_type": "stream",
     "text": [
      "Error fetching Google Trends data for 'Forza Horizon 5': The request failed: Google returned a response with code 429\n",
      "    > Google Trends: Failed or no data.\n",
      "    > Querying Reddit subreddit: r/ForzaHorizon\n",
      "Warning: Recent post count for r/ForzaHorizon (filter: week) reached fetch limit (250). Actual count may be higher if older posts were not checked beyond this limit.\n",
      "    > Reddit Data (Subscribers: 414910, Active: 65, Posts_week: 250)\n",
      "    > Querying Twitter for: \"Forza Horizon 5\" OR #ForzaHorizon5\n",
      "Error: Twitter client not initialized.\n",
      "    > Querying YouTube for: \"Forza Horizon 5\" official trailer OR gameplay\n",
      "    > YouTube Search Query: \"Forza Horizon 5\" official trailer OR gameplay\n",
      "    > YouTube Stats (Top 5 videos): Total Views=15747930, Avg Views=3149586, Avg Likes=85407\n",
      "  Processing external signals for: Call of Duty®: Modern Warfare® II (Timeout: 30s)\n",
      "    > Querying Google Trends for: 'Call of Duty®: Modern Warfare® II'\n"
     ]
    },
    {
     "name": "stderr",
     "output_type": "stream",
     "text": [
      "c:\\Users\\lucav\\Github\\Game-Popularity-Prediction-Modelv2\\venv\\Lib\\site-packages\\urllib3\\connectionpool.py:1097: InsecureRequestWarning: Unverified HTTPS request is being made to host 'trends.google.com'. Adding certificate verification is strongly advised. See: https://urllib3.readthedocs.io/en/latest/advanced-usage.html#tls-warnings\n",
      "  warnings.warn(\n",
      "c:\\Users\\lucav\\Github\\Game-Popularity-Prediction-Modelv2\\venv\\Lib\\site-packages\\urllib3\\connectionpool.py:1097: InsecureRequestWarning: Unverified HTTPS request is being made to host 'trends.google.com'. Adding certificate verification is strongly advised. See: https://urllib3.readthedocs.io/en/latest/advanced-usage.html#tls-warnings\n",
      "  warnings.warn(\n"
     ]
    },
    {
     "name": "stdout",
     "output_type": "stream",
     "text": [
      "Error fetching Google Trends data for 'Call of Duty®: Modern Warfare® II': The request failed: Google returned a response with code 429\n",
      "    > Google Trends: Failed or no data.\n",
      "    > Querying Reddit subreddit: r/callofdutymodernwarfareii\n",
      "Info: Subreddit r/callofdutymodernwarfareii not found.\n",
      "    > Querying Twitter for: \"Call of Duty®: Modern Warfare® II\" OR #CallofDutyModernWarfareII\n",
      "Error: Twitter client not initialized.\n",
      "    > Querying YouTube for: \"Call of Duty®: Modern Warfare® II\" official trailer OR gameplay\n",
      "    > YouTube Search Query: \"Call of Duty®: Modern Warfare® II\" official trailer OR gameplay\n",
      "    > YouTube Stats (Top 5 videos): Total Views=3666091, Avg Views=733218, Avg Likes=18898\n",
      "  Processing external signals for: Rocket League® (Timeout: 30s)\n",
      "    > Querying Google Trends for: 'Rocket League®'\n"
     ]
    },
    {
     "name": "stderr",
     "output_type": "stream",
     "text": [
      "c:\\Users\\lucav\\Github\\Game-Popularity-Prediction-Modelv2\\venv\\Lib\\site-packages\\urllib3\\connectionpool.py:1097: InsecureRequestWarning: Unverified HTTPS request is being made to host 'trends.google.com'. Adding certificate verification is strongly advised. See: https://urllib3.readthedocs.io/en/latest/advanced-usage.html#tls-warnings\n",
      "  warnings.warn(\n",
      "c:\\Users\\lucav\\Github\\Game-Popularity-Prediction-Modelv2\\venv\\Lib\\site-packages\\urllib3\\connectionpool.py:1097: InsecureRequestWarning: Unverified HTTPS request is being made to host 'trends.google.com'. Adding certificate verification is strongly advised. See: https://urllib3.readthedocs.io/en/latest/advanced-usage.html#tls-warnings\n",
      "  warnings.warn(\n"
     ]
    },
    {
     "name": "stdout",
     "output_type": "stream",
     "text": [
      "Error fetching Google Trends data for 'Rocket League®': The request failed: Google returned a response with code 429\n",
      "    > Google Trends: Failed or no data.\n",
      "    > Querying Reddit subreddit: r/rocketleague\n",
      "Warning: Recent post count for r/rocketleague (filter: week) reached fetch limit (250). Actual count may be higher if older posts were not checked beyond this limit.\n",
      "    > Reddit Data (Subscribers: 1833512, Active: 205, Posts_week: 250)\n",
      "    > Querying Twitter for: \"Rocket League®\" OR #RocketLeague\n",
      "Error: Twitter client not initialized.\n",
      "    > Querying YouTube for: \"Rocket League®\" official trailer OR gameplay\n",
      "    > YouTube Search Query: \"Rocket League®\" official trailer OR gameplay\n",
      "    > YouTube Stats (Top 5 videos): Total Views=4780631, Avg Views=956126, Avg Likes=20155\n",
      "  Processing external signals for: Tom Clancy's Rainbow Six® Siege (Timeout: 30s)\n",
      "    > Querying Google Trends for: 'Rainbow Six Siege'\n"
     ]
    },
    {
     "name": "stderr",
     "output_type": "stream",
     "text": [
      "c:\\Users\\lucav\\Github\\Game-Popularity-Prediction-Modelv2\\venv\\Lib\\site-packages\\urllib3\\connectionpool.py:1097: InsecureRequestWarning: Unverified HTTPS request is being made to host 'trends.google.com'. Adding certificate verification is strongly advised. See: https://urllib3.readthedocs.io/en/latest/advanced-usage.html#tls-warnings\n",
      "  warnings.warn(\n",
      "c:\\Users\\lucav\\Github\\Game-Popularity-Prediction-Modelv2\\venv\\Lib\\site-packages\\urllib3\\connectionpool.py:1097: InsecureRequestWarning: Unverified HTTPS request is being made to host 'trends.google.com'. Adding certificate verification is strongly advised. See: https://urllib3.readthedocs.io/en/latest/advanced-usage.html#tls-warnings\n",
      "  warnings.warn(\n"
     ]
    },
    {
     "name": "stdout",
     "output_type": "stream",
     "text": [
      "Error fetching Google Trends data for 'Rainbow Six Siege': The request failed: Google returned a response with code 429\n",
      "    > Google Trends: Failed or no data.\n",
      "    > Querying Reddit subreddit: r/Rainbow6\n",
      "Warning: Recent post count for r/Rainbow6 (filter: week) reached fetch limit (250). Actual count may be higher if older posts were not checked beyond this limit.\n",
      "    > Reddit Data (Subscribers: 2102446, Active: 123, Posts_week: 250)\n",
      "    > Querying Twitter for: \"Rainbow Six Siege\" OR #RainbowSixSiege OR #R6S\n",
      "Error: Twitter client not initialized.\n",
      "    > Querying YouTube for: \"Rainbow Six Siege\" gameplay OR R6S\n",
      "    > YouTube Search Query: \"Rainbow Six Siege\" gameplay OR R6S\n",
      "    > YouTube Stats (Top 5 videos): Total Views=977773, Avg Views=195555, Avg Likes=4376\n",
      "  Processing external signals for: Counter-Strike 2 (Timeout: 30s)\n",
      "    > Querying Google Trends for: 'Counter-Strike 2'\n"
     ]
    },
    {
     "name": "stderr",
     "output_type": "stream",
     "text": [
      "c:\\Users\\lucav\\Github\\Game-Popularity-Prediction-Modelv2\\venv\\Lib\\site-packages\\urllib3\\connectionpool.py:1097: InsecureRequestWarning: Unverified HTTPS request is being made to host 'trends.google.com'. Adding certificate verification is strongly advised. See: https://urllib3.readthedocs.io/en/latest/advanced-usage.html#tls-warnings\n",
      "  warnings.warn(\n",
      "c:\\Users\\lucav\\Github\\Game-Popularity-Prediction-Modelv2\\venv\\Lib\\site-packages\\urllib3\\connectionpool.py:1097: InsecureRequestWarning: Unverified HTTPS request is being made to host 'trends.google.com'. Adding certificate verification is strongly advised. See: https://urllib3.readthedocs.io/en/latest/advanced-usage.html#tls-warnings\n",
      "  warnings.warn(\n"
     ]
    },
    {
     "name": "stdout",
     "output_type": "stream",
     "text": [
      "Error fetching Google Trends data for 'Counter-Strike 2': The request failed: Google returned a response with code 429\n",
      "    > Google Trends: Failed or no data.\n",
      "    > Querying Reddit subreddit: r/GlobalOffensive\n",
      "Warning: Recent post count for r/GlobalOffensive (filter: week) reached fetch limit (250). Actual count may be higher if older posts were not checked beyond this limit.\n",
      "    > Reddit Data (Subscribers: 2805809, Active: 540, Posts_week: 250)\n",
      "    > Querying Twitter for: \"Counter-Strike 2\" OR #CS2\n",
      "Error: Twitter client not initialized.\n",
      "    > Querying YouTube for: \"Counter-Strike 2\" gameplay OR CS2\n",
      "    > YouTube Search Query: \"Counter-Strike 2\" gameplay OR CS2\n",
      "    > YouTube Stats (Top 5 videos): Total Views=2113742, Avg Views=422748, Avg Likes=3882\n",
      "  Processing external signals for: Call of Duty® (Timeout: 30s)\n",
      "    > Querying Google Trends for: 'Call of Duty'\n"
     ]
    },
    {
     "name": "stderr",
     "output_type": "stream",
     "text": [
      "c:\\Users\\lucav\\Github\\Game-Popularity-Prediction-Modelv2\\venv\\Lib\\site-packages\\urllib3\\connectionpool.py:1097: InsecureRequestWarning: Unverified HTTPS request is being made to host 'trends.google.com'. Adding certificate verification is strongly advised. See: https://urllib3.readthedocs.io/en/latest/advanced-usage.html#tls-warnings\n",
      "  warnings.warn(\n",
      "c:\\Users\\lucav\\Github\\Game-Popularity-Prediction-Modelv2\\venv\\Lib\\site-packages\\urllib3\\connectionpool.py:1097: InsecureRequestWarning: Unverified HTTPS request is being made to host 'trends.google.com'. Adding certificate verification is strongly advised. See: https://urllib3.readthedocs.io/en/latest/advanced-usage.html#tls-warnings\n",
      "  warnings.warn(\n"
     ]
    },
    {
     "name": "stdout",
     "output_type": "stream",
     "text": [
      "Error fetching Google Trends data for 'Call of Duty': The request failed: Google returned a response with code 429\n",
      "    > Google Trends: Failed or no data.\n",
      "    > Querying Reddit subreddit: r/ModernWarfareIII\n",
      "    > Reddit Data (Subscribers: 347724, Active: 29, Posts_week: 57)\n",
      "    > Querying Twitter for: #MW3 OR #Warzone OR \"Call of Duty\"\n",
      "Error: Twitter client not initialized.\n",
      "    > Querying YouTube for: Modern Warfare 3 gameplay OR Warzone gameplay\n",
      "    > YouTube Search Query: Modern Warfare 3 gameplay OR Warzone gameplay\n",
      "    > YouTube Stats (Top 5 videos): Total Views=12379615, Avg Views=2475923, Avg Likes=29736\n",
      "  Processing external signals for: Kenshi (Timeout: 30s)\n",
      "    > Querying Google Trends for: 'Kenshi'\n"
     ]
    },
    {
     "name": "stderr",
     "output_type": "stream",
     "text": [
      "c:\\Users\\lucav\\Github\\Game-Popularity-Prediction-Modelv2\\venv\\Lib\\site-packages\\urllib3\\connectionpool.py:1097: InsecureRequestWarning: Unverified HTTPS request is being made to host 'trends.google.com'. Adding certificate verification is strongly advised. See: https://urllib3.readthedocs.io/en/latest/advanced-usage.html#tls-warnings\n",
      "  warnings.warn(\n",
      "c:\\Users\\lucav\\Github\\Game-Popularity-Prediction-Modelv2\\venv\\Lib\\site-packages\\urllib3\\connectionpool.py:1097: InsecureRequestWarning: Unverified HTTPS request is being made to host 'trends.google.com'. Adding certificate verification is strongly advised. See: https://urllib3.readthedocs.io/en/latest/advanced-usage.html#tls-warnings\n",
      "  warnings.warn(\n"
     ]
    },
    {
     "name": "stdout",
     "output_type": "stream",
     "text": [
      "Error fetching Google Trends data for 'Kenshi': The request failed: Google returned a response with code 429\n",
      "    > Google Trends: Failed or no data.\n",
      "    > Querying Reddit subreddit: r/Kenshi\n",
      "Warning: Recent post count for r/Kenshi (filter: week) reached fetch limit (250). Actual count may be higher if older posts were not checked beyond this limit.\n",
      "    > Reddit Data (Subscribers: 166219, Active: 118, Posts_week: 250)\n",
      "    > Querying Twitter for: \"Kenshi game\" OR #Kenshi\n",
      "Error: Twitter client not initialized.\n",
      "    > Querying YouTube for: \"Kenshi\" official trailer OR gameplay\n",
      "    > YouTube Search Query: \"Kenshi\" official trailer OR gameplay\n",
      "    > YouTube Stats (Top 5 videos): Total Views=844159, Avg Views=168832, Avg Likes=7749\n",
      "  Processing external signals for: Grand Theft Auto V Legacy (Timeout: 30s)\n",
      "    > Querying Google Trends for: 'Grand Theft Auto V Legacy'\n"
     ]
    },
    {
     "name": "stderr",
     "output_type": "stream",
     "text": [
      "c:\\Users\\lucav\\Github\\Game-Popularity-Prediction-Modelv2\\venv\\Lib\\site-packages\\urllib3\\connectionpool.py:1097: InsecureRequestWarning: Unverified HTTPS request is being made to host 'trends.google.com'. Adding certificate verification is strongly advised. See: https://urllib3.readthedocs.io/en/latest/advanced-usage.html#tls-warnings\n",
      "  warnings.warn(\n",
      "c:\\Users\\lucav\\Github\\Game-Popularity-Prediction-Modelv2\\venv\\Lib\\site-packages\\urllib3\\connectionpool.py:1097: InsecureRequestWarning: Unverified HTTPS request is being made to host 'trends.google.com'. Adding certificate verification is strongly advised. See: https://urllib3.readthedocs.io/en/latest/advanced-usage.html#tls-warnings\n",
      "  warnings.warn(\n"
     ]
    },
    {
     "name": "stdout",
     "output_type": "stream",
     "text": [
      "Error fetching Google Trends data for 'Grand Theft Auto V Legacy': The request failed: Google returned a response with code 429\n",
      "    > Google Trends: Failed or no data.\n",
      "    > Querying Reddit subreddit: r/grandtheftautovlegacy\n",
      "Info: Subreddit r/grandtheftautovlegacy is redirected. Consider updating the name.\n",
      "    > Querying Twitter for: \"Grand Theft Auto V Legacy\" OR #GrandTheftAutoVLegacy\n",
      "Error: Twitter client not initialized.\n",
      "    > Querying YouTube for: \"Grand Theft Auto V Legacy\" official trailer OR gameplay\n",
      "    > YouTube Search Query: \"Grand Theft Auto V Legacy\" official trailer OR gameplay\n",
      "    > YouTube Stats (Top 5 videos): Total Views=210602, Avg Views=42120, Avg Likes=427\n",
      "  Processing external signals for: The Witcher 3: Wild Hunt (Timeout: 30s)\n",
      "    > Querying Google Trends for: 'Witcher 3'\n"
     ]
    },
    {
     "name": "stderr",
     "output_type": "stream",
     "text": [
      "c:\\Users\\lucav\\Github\\Game-Popularity-Prediction-Modelv2\\venv\\Lib\\site-packages\\urllib3\\connectionpool.py:1097: InsecureRequestWarning: Unverified HTTPS request is being made to host 'trends.google.com'. Adding certificate verification is strongly advised. See: https://urllib3.readthedocs.io/en/latest/advanced-usage.html#tls-warnings\n",
      "  warnings.warn(\n",
      "c:\\Users\\lucav\\Github\\Game-Popularity-Prediction-Modelv2\\venv\\Lib\\site-packages\\urllib3\\connectionpool.py:1097: InsecureRequestWarning: Unverified HTTPS request is being made to host 'trends.google.com'. Adding certificate verification is strongly advised. See: https://urllib3.readthedocs.io/en/latest/advanced-usage.html#tls-warnings\n",
      "  warnings.warn(\n"
     ]
    },
    {
     "name": "stdout",
     "output_type": "stream",
     "text": [
      "Error fetching Google Trends data for 'Witcher 3': The request failed: Google returned a response with code 429\n",
      "    > Google Trends: Failed or no data.\n",
      "    > Querying Reddit subreddit: r/witcher\n",
      "    > Reddit Data (Subscribers: 1283267, Active: 63, Posts_week: 76)\n",
      "    > Querying Twitter for: \"Witcher 3\" OR #Witcher3\n",
      "Error: Twitter client not initialized.\n",
      "    > Querying YouTube for: \"The Witcher 3: Wild Hunt\" official trailer OR gameplay\n",
      "    > YouTube Search Query: \"The Witcher 3: Wild Hunt\" official trailer OR gameplay\n",
      "    > YouTube Stats (Top 5 videos): Total Views=9818324, Avg Views=1963665, Avg Likes=22864\n",
      "  Processing external signals for: Lost Ark (Timeout: 30s)\n",
      "    > Querying Google Trends for: 'Lost Ark'\n"
     ]
    },
    {
     "name": "stderr",
     "output_type": "stream",
     "text": [
      "c:\\Users\\lucav\\Github\\Game-Popularity-Prediction-Modelv2\\venv\\Lib\\site-packages\\urllib3\\connectionpool.py:1097: InsecureRequestWarning: Unverified HTTPS request is being made to host 'trends.google.com'. Adding certificate verification is strongly advised. See: https://urllib3.readthedocs.io/en/latest/advanced-usage.html#tls-warnings\n",
      "  warnings.warn(\n",
      "c:\\Users\\lucav\\Github\\Game-Popularity-Prediction-Modelv2\\venv\\Lib\\site-packages\\urllib3\\connectionpool.py:1097: InsecureRequestWarning: Unverified HTTPS request is being made to host 'trends.google.com'. Adding certificate verification is strongly advised. See: https://urllib3.readthedocs.io/en/latest/advanced-usage.html#tls-warnings\n",
      "  warnings.warn(\n"
     ]
    },
    {
     "name": "stdout",
     "output_type": "stream",
     "text": [
      "Error fetching Google Trends data for 'Lost Ark': The request failed: Google returned a response with code 429\n",
      "    > Google Trends: Failed or no data.\n",
      "    > Querying Reddit subreddit: r/lostarkgame\n",
      "    > Reddit Data (Subscribers: 280332, Active: 303, Posts_week: 161)\n",
      "    > Querying Twitter for: \"Lost Ark\" OR #LostArkGame\n",
      "Error: Twitter client not initialized.\n",
      "    > Querying YouTube for: \"Lost Ark\" official trailer OR gameplay\n",
      "    > YouTube Search Query: \"Lost Ark\" official trailer OR gameplay\n",
      "    > YouTube Stats (Top 5 videos): Total Views=2383545, Avg Views=476709, Avg Likes=4854\n",
      "  Processing external signals for: Baldur's Gate 3 (Timeout: 30s)\n",
      "    > Querying Google Trends for: 'Baldur's Gate 3'\n"
     ]
    },
    {
     "name": "stderr",
     "output_type": "stream",
     "text": [
      "c:\\Users\\lucav\\Github\\Game-Popularity-Prediction-Modelv2\\venv\\Lib\\site-packages\\urllib3\\connectionpool.py:1097: InsecureRequestWarning: Unverified HTTPS request is being made to host 'trends.google.com'. Adding certificate verification is strongly advised. See: https://urllib3.readthedocs.io/en/latest/advanced-usage.html#tls-warnings\n",
      "  warnings.warn(\n",
      "c:\\Users\\lucav\\Github\\Game-Popularity-Prediction-Modelv2\\venv\\Lib\\site-packages\\urllib3\\connectionpool.py:1097: InsecureRequestWarning: Unverified HTTPS request is being made to host 'trends.google.com'. Adding certificate verification is strongly advised. See: https://urllib3.readthedocs.io/en/latest/advanced-usage.html#tls-warnings\n",
      "  warnings.warn(\n"
     ]
    },
    {
     "name": "stdout",
     "output_type": "stream",
     "text": [
      "Error fetching Google Trends data for 'Baldur's Gate 3': The request failed: Google returned a response with code 429\n",
      "    > Google Trends: Failed or no data.\n",
      "    > Querying Reddit subreddit: r/BaldursGate3\n",
      "Warning: Recent post count for r/BaldursGate3 (filter: week) reached fetch limit (250). Actual count may be higher if older posts were not checked beyond this limit.\n",
      "    > Reddit Data (Subscribers: 3139889, Active: 696, Posts_week: 250)\n",
      "    > Querying Twitter for: \"Baldurs Gate 3\" OR #BaldursGate3 OR #BG3\n",
      "Error: Twitter client not initialized.\n",
      "    > Querying YouTube for: \"Baldurs Gate 3\" gameplay OR BG3\n",
      "    > YouTube Search Query: \"Baldurs Gate 3\" gameplay OR BG3\n",
      "    > YouTube Stats (Top 5 videos): Total Views=13362300, Avg Views=2672460, Avg Likes=82632\n",
      "  Processing external signals for: ELDEN RING (Timeout: 30s)\n",
      "    > Querying Google Trends for: 'ELDEN RING'\n"
     ]
    },
    {
     "name": "stderr",
     "output_type": "stream",
     "text": [
      "c:\\Users\\lucav\\Github\\Game-Popularity-Prediction-Modelv2\\venv\\Lib\\site-packages\\urllib3\\connectionpool.py:1097: InsecureRequestWarning: Unverified HTTPS request is being made to host 'trends.google.com'. Adding certificate verification is strongly advised. See: https://urllib3.readthedocs.io/en/latest/advanced-usage.html#tls-warnings\n",
      "  warnings.warn(\n",
      "c:\\Users\\lucav\\Github\\Game-Popularity-Prediction-Modelv2\\venv\\Lib\\site-packages\\urllib3\\connectionpool.py:1097: InsecureRequestWarning: Unverified HTTPS request is being made to host 'trends.google.com'. Adding certificate verification is strongly advised. See: https://urllib3.readthedocs.io/en/latest/advanced-usage.html#tls-warnings\n",
      "  warnings.warn(\n"
     ]
    },
    {
     "name": "stdout",
     "output_type": "stream",
     "text": [
      "Error fetching Google Trends data for 'ELDEN RING': The request failed: Google returned a response with code 429\n",
      "    > Google Trends: Failed or no data.\n",
      "    > Querying Reddit subreddit: r/Eldenring\n",
      "Warning: Recent post count for r/Eldenring (filter: week) reached fetch limit (250). Actual count may be higher if older posts were not checked beyond this limit.\n",
      "    > Reddit Data (Subscribers: 4323617, Active: 755, Posts_week: 250)\n",
      "    > Querying Twitter for: \"ELDEN RING\" OR #ELDENRING\n",
      "Error: Twitter client not initialized.\n",
      "    > Querying YouTube for: \"ELDEN RING\" official trailer OR gameplay\n",
      "    > YouTube Search Query: \"ELDEN RING\" official trailer OR gameplay\n",
      "    > YouTube Stats (Top 5 videos): Total Views=32520233, Avg Views=6504047, Avg Likes=150805\n",
      "[2025-05-06 22:03:13.363554] Finished collecting external signals.\n",
      "[2025-05-06 22:03:13.363595] Merging external signals into main dataset...\n",
      "[2025-05-06 22:03:13.363752] Finished merging external signals.\n",
      "[2025-05-06 22:03:13.404429] Data collection complete. DataFrame shape: (20, 19)\n",
      "\n",
      "--- Collected Data Sample ---\n"
     ]
    },
    {
     "data": {
      "text/html": [
       "<div>\n",
       "<style scoped>\n",
       "    .dataframe tbody tr th:only-of-type {\n",
       "        vertical-align: middle;\n",
       "    }\n",
       "\n",
       "    .dataframe tbody tr th {\n",
       "        vertical-align: top;\n",
       "    }\n",
       "\n",
       "    .dataframe thead th {\n",
       "        text-align: right;\n",
       "    }\n",
       "</style>\n",
       "<table border=\"1\" class=\"dataframe\">\n",
       "  <thead>\n",
       "    <tr style=\"text-align: right;\">\n",
       "      <th></th>\n",
       "      <th>app_id</th>\n",
       "      <th>name</th>\n",
       "      <th>category</th>\n",
       "      <th>timestamp</th>\n",
       "      <th>player_count</th>\n",
       "      <th>twitch_viewer_count</th>\n",
       "      <th>google_trends_avg</th>\n",
       "      <th>reddit_subscribers</th>\n",
       "      <th>reddit_active_users</th>\n",
       "      <th>reddit_recent_posts</th>\n",
       "      <th>twitter_recent_count</th>\n",
       "      <th>youtube_total_views</th>\n",
       "      <th>youtube_avg_views</th>\n",
       "      <th>youtube_avg_likes</th>\n",
       "      <th>release_date</th>\n",
       "    </tr>\n",
       "  </thead>\n",
       "  <tbody>\n",
       "    <tr>\n",
       "      <th>0</th>\n",
       "      <td>1551360</td>\n",
       "      <td>Forza Horizon 5</td>\n",
       "      <td>experimental</td>\n",
       "      <td>2025-05-06T22:01:00.908708</td>\n",
       "      <td>10732</td>\n",
       "      <td>530</td>\n",
       "      <td>None</td>\n",
       "      <td>414910.0</td>\n",
       "      <td>65.0</td>\n",
       "      <td>250.0</td>\n",
       "      <td>None</td>\n",
       "      <td>15747930</td>\n",
       "      <td>3149586.0</td>\n",
       "      <td>85406.6</td>\n",
       "      <td>Nov 8, 2021</td>\n",
       "    </tr>\n",
       "    <tr>\n",
       "      <th>1</th>\n",
       "      <td>233860</td>\n",
       "      <td>Kenshi</td>\n",
       "      <td>declining</td>\n",
       "      <td>2025-05-06T22:01:00.908708</td>\n",
       "      <td>2962</td>\n",
       "      <td>39</td>\n",
       "      <td>None</td>\n",
       "      <td>166219.0</td>\n",
       "      <td>118.0</td>\n",
       "      <td>250.0</td>\n",
       "      <td>None</td>\n",
       "      <td>844159</td>\n",
       "      <td>168831.8</td>\n",
       "      <td>7749.0</td>\n",
       "      <td>Dec 6, 2018</td>\n",
       "    </tr>\n",
       "    <tr>\n",
       "      <th>2</th>\n",
       "      <td>1172620</td>\n",
       "      <td>Sea of Thieves: 2025 Edition</td>\n",
       "      <td>experimental</td>\n",
       "      <td>2025-05-06T22:01:00.908708</td>\n",
       "      <td>6001</td>\n",
       "      <td>1474</td>\n",
       "      <td>None</td>\n",
       "      <td>NaN</td>\n",
       "      <td>NaN</td>\n",
       "      <td>NaN</td>\n",
       "      <td>None</td>\n",
       "      <td>343551</td>\n",
       "      <td>68710.2</td>\n",
       "      <td>2705.2</td>\n",
       "      <td>Jun 3, 2020</td>\n",
       "    </tr>\n",
       "    <tr>\n",
       "      <th>3</th>\n",
       "      <td>1203220</td>\n",
       "      <td>NARAKA: BLADEPOINT</td>\n",
       "      <td>experimental</td>\n",
       "      <td>2025-05-06T22:01:00.908708</td>\n",
       "      <td>20303</td>\n",
       "      <td>402</td>\n",
       "      <td>None</td>\n",
       "      <td>32179.0</td>\n",
       "      <td>6.0</td>\n",
       "      <td>40.0</td>\n",
       "      <td>None</td>\n",
       "      <td>1556839</td>\n",
       "      <td>311367.8</td>\n",
       "      <td>5218.4</td>\n",
       "      <td>Aug 11, 2021</td>\n",
       "    </tr>\n",
       "    <tr>\n",
       "      <th>4</th>\n",
       "      <td>252950</td>\n",
       "      <td>Rocket League®</td>\n",
       "      <td>declining</td>\n",
       "      <td>2025-05-06T22:01:00.908708</td>\n",
       "      <td>19362</td>\n",
       "      <td>6465</td>\n",
       "      <td>None</td>\n",
       "      <td>1833512.0</td>\n",
       "      <td>205.0</td>\n",
       "      <td>250.0</td>\n",
       "      <td>None</td>\n",
       "      <td>4780631</td>\n",
       "      <td>956126.2</td>\n",
       "      <td>20154.6</td>\n",
       "      <td>Jul 6, 2015</td>\n",
       "    </tr>\n",
       "  </tbody>\n",
       "</table>\n",
       "</div>"
      ],
      "text/plain": [
       "    app_id                          name      category                   timestamp  player_count  twitch_viewer_count google_trends_avg  reddit_subscribers  reddit_active_users  reddit_recent_posts twitter_recent_count  youtube_total_views  youtube_avg_views  youtube_avg_likes  release_date\n",
       "0  1551360               Forza Horizon 5  experimental  2025-05-06T22:01:00.908708         10732                  530              None            414910.0                 65.0                250.0                 None             15747930          3149586.0            85406.6   Nov 8, 2021\n",
       "1   233860                        Kenshi     declining  2025-05-06T22:01:00.908708          2962                   39              None            166219.0                118.0                250.0                 None               844159           168831.8             7749.0   Dec 6, 2018\n",
       "2  1172620  Sea of Thieves: 2025 Edition  experimental  2025-05-06T22:01:00.908708          6001                 1474              None                 NaN                  NaN                  NaN                 None               343551            68710.2             2705.2   Jun 3, 2020\n",
       "3  1203220            NARAKA: BLADEPOINT  experimental  2025-05-06T22:01:00.908708         20303                  402              None             32179.0                  6.0                 40.0                 None              1556839           311367.8             5218.4  Aug 11, 2021\n",
       "4   252950                Rocket League®     declining  2025-05-06T22:01:00.908708         19362                 6465              None           1833512.0                205.0                250.0                 None              4780631           956126.2            20154.6   Jul 6, 2015"
      ]
     },
     "metadata": {},
     "output_type": "display_data"
    },
    {
     "name": "stdout",
     "output_type": "stream",
     "text": [
      "\n",
      "Shape: (20, 19)\n",
      "\n",
      "Columns: ['app_id', 'name', 'category', 'timestamp', 'player_count', 'twitch_viewer_count', 'google_trends_avg', 'reddit_subscribers', 'reddit_active_users', 'reddit_recent_posts', 'twitter_recent_count', 'youtube_total_views', 'youtube_avg_views', 'youtube_avg_likes', 'release_date', 'metacritic_score', 'genres', 'price', 'is_free']\n"
     ]
    }
   ],
   "source": [
    "# Collect data for all tracked games\n",
    "# include_details=True is needed to get game names for Twitch/External lookups\n",
    "# include_twitch=True fetches Twitch viewership\n",
    "# include_external=True fetches Google Trends, Reddit, Twitter, YouTube data\n",
    "print(\"Starting data collection...\")\n",
    "print(\"This may take a few minutes depending on the number of games and API responsiveness.\")\n",
    "try:\n",
    "    current_data_df = collector.collect_current_data(\n",
    "        include_details=True,\n",
    "        include_twitch=True,\n",
    "        include_external=True\n",
    "    )\n",
    "    print(\"\\n--- Collected Data Sample ---\")\n",
    "    # Display relevant columns, especially the newly added ones\n",
    "    display_cols = [\n",
    "        'app_id', 'name', 'category', 'timestamp', 'player_count', 'twitch_viewer_count',\n",
    "        'google_trends_avg', 'reddit_subscribers', 'reddit_active_users', 'reddit_recent_posts', 'twitter_recent_count',\n",
    "        'youtube_total_views', 'youtube_avg_views', 'youtube_avg_likes', 'release_date'\n",
    "    ]\n",
    "    display_cols_present = [col for col in display_cols if col in current_data_df.columns]\n",
    "    display(current_data_df[display_cols_present].head())\n",
    "    print(f\"\\nShape: {current_data_df.shape}\")\n",
    "    print(\"\\nColumns:\", current_data_df.columns.tolist())\n",
    "except Exception as e:\n",
    "    print(f\"\\nAn error occurred during data collection: {e}\")\n",
    "    # Optionally re-raise if debugging: raise e\n",
    "    current_data_df = pd.DataFrame() # Ensure df exists but is empty on error"
   ]
  },
  {
   "cell_type": "markdown",
   "id": "f6002d98",
   "metadata": {
    "id": "75faf4a7",
    "language": "markdown"
   },
   "source": [
    "## 4. Save Data to File\n",
    "\n",
    "**Purpose:** Save the collected DataFrame for future use.\n",
    "\n",
    "**Why:** Persistent storage allows us to build a historical dataset over time, which is essential for the `DataAggregator` and model training.\n",
    "\n",
    "**Expected Output:** Confirmation of the file save location."
   ]
  },
  {
   "cell_type": "code",
   "execution_count": 4,
   "id": "6f8ac21c",
   "metadata": {
    "id": "eba635e7",
    "language": "python"
   },
   "outputs": [
    {
     "name": "stdout",
     "output_type": "stream",
     "text": [
      "[2025-05-06 22:04:13.075969] Data saved to ..\\data\\steam_data_2025-05-06-22-04.csv.gz\n",
      "\n",
      "Data successfully saved to: ..\\data\\steam_data_2025-05-06-22-04.csv.gz\n"
     ]
    }
   ],
   "source": [
    "# Save the collected data to a compressed CSV file\n",
    "try:\n",
    "    # Check if the DataFrame exists and is not empty\n",
    "    if 'current_data_df' in locals() and not current_data_df.empty:\n",
    "        saved_filepath = collector.save_data(data=current_data_df, compress=True)\n",
    "        print(f\"\\nData successfully saved to: {saved_filepath}\")\n",
    "        \n",
    "        # Optional: Verify loading back\n",
    "        # loaded_data = collector.load_data(saved_filepath)\n",
    "        # print(f\"Verification - Loaded {len(loaded_data)} rows from saved file\")\n",
    "    else:\n",
    "        print(\"\\nSkipping save: No data collected or collection failed.\")\n",
    "except Exception as e:\n",
    "     print(f\"\\nAn error occurred while saving data: {e}\")"
   ]
  },
  {
   "cell_type": "markdown",
   "id": "91f2f524",
   "metadata": {
    "id": "2d4debca",
    "language": "markdown"
   },
   "source": [
    "## 5. Initial Data Review (Optional)\n",
    "\n",
    "**Purpose:** Perform a quick check on the collected data.\n",
    "\n",
    "**Why:** Helps spot any immediate issues like missing values in key columns or unexpected data ranges.\n",
    "\n",
    "**Expected Output:**\n",
    "- Basic statistics for key numerical columns."
   ]
  },
  {
   "cell_type": "code",
   "execution_count": 5,
   "id": "1d56e5bb",
   "metadata": {
    "id": "10686c60",
    "language": "python"
   },
   "outputs": [
    {
     "name": "stdout",
     "output_type": "stream",
     "text": [
      "\n",
      "Basic Statistics for Key Metrics:\n"
     ]
    },
    {
     "data": {
      "text/html": [
       "<div>\n",
       "<style scoped>\n",
       "    .dataframe tbody tr th:only-of-type {\n",
       "        vertical-align: middle;\n",
       "    }\n",
       "\n",
       "    .dataframe tbody tr th {\n",
       "        vertical-align: top;\n",
       "    }\n",
       "\n",
       "    .dataframe thead th {\n",
       "        text-align: right;\n",
       "    }\n",
       "</style>\n",
       "<table border=\"1\" class=\"dataframe\">\n",
       "  <thead>\n",
       "    <tr style=\"text-align: right;\">\n",
       "      <th></th>\n",
       "      <th>player_count</th>\n",
       "      <th>twitch_viewer_count</th>\n",
       "      <th>reddit_subscribers</th>\n",
       "      <th>reddit_active_users</th>\n",
       "      <th>reddit_recent_posts</th>\n",
       "      <th>youtube_total_views</th>\n",
       "      <th>youtube_avg_views</th>\n",
       "      <th>youtube_avg_likes</th>\n",
       "    </tr>\n",
       "  </thead>\n",
       "  <tbody>\n",
       "    <tr>\n",
       "      <th>count</th>\n",
       "      <td>20.000000</td>\n",
       "      <td>20.00000</td>\n",
       "      <td>1.700000e+01</td>\n",
       "      <td>17.000000</td>\n",
       "      <td>17.000000</td>\n",
       "      <td>2.000000e+01</td>\n",
       "      <td>2.000000e+01</td>\n",
       "      <td>20.000000</td>\n",
       "    </tr>\n",
       "    <tr>\n",
       "      <th>mean</th>\n",
       "      <td>76967.350000</td>\n",
       "      <td>11483.20000</td>\n",
       "      <td>1.632671e+06</td>\n",
       "      <td>259.647059</td>\n",
       "      <td>202.470588</td>\n",
       "      <td>1.608493e+07</td>\n",
       "      <td>3.216986e+06</td>\n",
       "      <td>53915.550000</td>\n",
       "    </tr>\n",
       "    <tr>\n",
       "      <th>std</th>\n",
       "      <td>140316.458527</td>\n",
       "      <td>27977.02605</td>\n",
       "      <td>1.275120e+06</td>\n",
       "      <td>235.021792</td>\n",
       "      <td>79.571601</td>\n",
       "      <td>3.144793e+07</td>\n",
       "      <td>6.289586e+06</td>\n",
       "      <td>92843.774347</td>\n",
       "    </tr>\n",
       "    <tr>\n",
       "      <th>min</th>\n",
       "      <td>1.000000</td>\n",
       "      <td>39.00000</td>\n",
       "      <td>3.217900e+04</td>\n",
       "      <td>6.000000</td>\n",
       "      <td>40.000000</td>\n",
       "      <td>2.106020e+05</td>\n",
       "      <td>4.212040e+04</td>\n",
       "      <td>426.800000</td>\n",
       "    </tr>\n",
       "    <tr>\n",
       "      <th>25%</th>\n",
       "      <td>15131.500000</td>\n",
       "      <td>411.00000</td>\n",
       "      <td>4.149100e+05</td>\n",
       "      <td>65.000000</td>\n",
       "      <td>161.000000</td>\n",
       "      <td>9.558138e+05</td>\n",
       "      <td>1.911628e+05</td>\n",
       "      <td>4252.450000</td>\n",
       "    </tr>\n",
       "    <tr>\n",
       "      <th>50%</th>\n",
       "      <td>23271.500000</td>\n",
       "      <td>1908.00000</td>\n",
       "      <td>1.709804e+06</td>\n",
       "      <td>205.000000</td>\n",
       "      <td>250.000000</td>\n",
       "      <td>3.024818e+06</td>\n",
       "      <td>6.049636e+05</td>\n",
       "      <td>13382.400000</td>\n",
       "    </tr>\n",
       "    <tr>\n",
       "      <th>75%</th>\n",
       "      <td>78880.750000</td>\n",
       "      <td>6628.25000</td>\n",
       "      <td>2.653057e+06</td>\n",
       "      <td>351.000000</td>\n",
       "      <td>250.000000</td>\n",
       "      <td>1.351990e+07</td>\n",
       "      <td>2.703979e+06</td>\n",
       "      <td>42960.000000</td>\n",
       "    </tr>\n",
       "    <tr>\n",
       "      <th>max</th>\n",
       "      <td>617562.000000</td>\n",
       "      <td>124267.00000</td>\n",
       "      <td>4.323617e+06</td>\n",
       "      <td>755.000000</td>\n",
       "      <td>250.000000</td>\n",
       "      <td>1.259228e+08</td>\n",
       "      <td>2.518456e+07</td>\n",
       "      <td>309560.000000</td>\n",
       "    </tr>\n",
       "  </tbody>\n",
       "</table>\n",
       "</div>"
      ],
      "text/plain": [
       "        player_count  twitch_viewer_count  reddit_subscribers  reddit_active_users  reddit_recent_posts  youtube_total_views  youtube_avg_views  youtube_avg_likes\n",
       "count      20.000000             20.00000        1.700000e+01            17.000000            17.000000         2.000000e+01       2.000000e+01          20.000000\n",
       "mean    76967.350000          11483.20000        1.632671e+06           259.647059           202.470588         1.608493e+07       3.216986e+06       53915.550000\n",
       "std    140316.458527          27977.02605        1.275120e+06           235.021792            79.571601         3.144793e+07       6.289586e+06       92843.774347\n",
       "min         1.000000             39.00000        3.217900e+04             6.000000            40.000000         2.106020e+05       4.212040e+04         426.800000\n",
       "25%     15131.500000            411.00000        4.149100e+05            65.000000           161.000000         9.558138e+05       1.911628e+05        4252.450000\n",
       "50%     23271.500000           1908.00000        1.709804e+06           205.000000           250.000000         3.024818e+06       6.049636e+05       13382.400000\n",
       "75%     78880.750000           6628.25000        2.653057e+06           351.000000           250.000000         1.351990e+07       2.703979e+06       42960.000000\n",
       "max    617562.000000         124267.00000        4.323617e+06           755.000000           250.000000         1.259228e+08       2.518456e+07      309560.000000"
      ]
     },
     "metadata": {},
     "output_type": "display_data"
    }
   ],
   "source": [
    "# Display basic statistics for numerical columns if data was collected\n",
    "if 'current_data_df' in locals() and not current_data_df.empty:\n",
    "    print(\"\\nBasic Statistics for Key Metrics:\")\n",
    "    stats_cols = [\n",
    "        'player_count', 'twitch_viewer_count', 'google_trends_avg', \n",
    "        'reddit_subscribers', 'reddit_active_users', 'reddit_recent_posts', \n",
    "        'twitter_recent_count', 'youtube_total_views', 'youtube_avg_views', 'youtube_avg_likes'\n",
    "    ]\n",
    "    stats_cols_present = [col for col in stats_cols if col in current_data_df.columns]\n",
    "    display(current_data_df[stats_cols_present].describe())\n",
    "else:\n",
    "    print(\"\\nSkipping statistics: No data available.\")"
   ]
  },
  {
   "cell_type": "markdown",
   "id": "12d6e99f",
   "metadata": {
    "id": "d1376301",
    "language": "markdown"
   },
   "source": [
    "## 6. Next Steps\n",
    "\n",
    "**Purpose:** Outline the path forward.\n",
    "\n",
    "**Why:** Guides the project towards the goal of building the prediction model.\n",
    "\n",
    "**Next Actions:**\n",
    "1.  **Repeat Collection:** Run this notebook periodically (e.g., daily, weekly) to build up historical data.\n",
    "2.  **Aggregation:** Once sufficient historical data exists, use the `DataAggregator` (likely in `02_feature_engineering.ipynb`) to process the saved files into a feature set.\n",
    "3.  **Feature Engineering & Modeling:** Analyze the aggregated data and build predictive models (`02_feature_engineering.ipynb`, `03_modeling.ipynb`)."
   ]
  },
  {
   "cell_type": "code",
   "execution_count": 6,
   "id": "f91691b0",
   "metadata": {
    "id": "639c9ddf",
    "language": "python"
   },
   "outputs": [
    {
     "name": "stdout",
     "output_type": "stream",
     "text": [
      "\n",
      "Data Collection Notebook Complete.\n",
      "Latest data saved to: ..\\data\\steam_data_2025-05-06-22-04.csv.gz\n",
      "\n",
      "Remember to run this notebook periodically to build your historical dataset.\n"
     ]
    }
   ],
   "source": [
    "# Final summary message\n",
    "print(\"\\nData Collection Notebook Complete.\")\n",
    "if 'saved_filepath' in locals():\n",
    "    print(f\"Latest data saved to: {saved_filepath}\")\n",
    "elif 'current_data_df' in locals() and current_data_df.empty:\n",
    "     print(\"Data collection run finished, but resulted in empty data or an error occurred.\")\n",
    "else:\n",
    "     print(\"Data collection run finished, but data was not saved (likely due to an error). Check previous cell outputs.\")\n",
    "\n",
    "print(\"\\nRemember to run this notebook periodically to build your historical dataset.\")"
   ]
  },
  {
   "cell_type": "markdown",
   "id": "58ed549a",
   "metadata": {
    "id": "8432d70e",
    "language": "markdown"
   },
   "source": [
    "---\n",
    "*End of Notebook*"
   ]
  }
 ],
 "metadata": {
  "kernelspec": {
   "display_name": "venv",
   "language": "python",
   "name": "python3"
  },
  "language_info": {
   "codemirror_mode": {
    "name": "ipython",
    "version": 3
   },
   "file_extension": ".py",
   "mimetype": "text/x-python",
   "name": "python",
   "nbconvert_exporter": "python",
   "pygments_lexer": "ipython3",
   "version": "3.13.3"
  }
 },
 "nbformat": 4,
 "nbformat_minor": 5
}
